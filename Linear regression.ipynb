{
 "cells": [
  {
   "cell_type": "code",
   "execution_count": 6,
   "metadata": {},
   "outputs": [],
   "source": [
    "import numpy as np"
   ]
  },
  {
   "cell_type": "markdown",
   "metadata": {},
   "source": [
    "m is number of features  \n",
    "n is number of training examples  \n",
    "X is of dimension (m,n) and Y is of dimension (m,1)"
   ]
  },
  {
   "cell_type": "code",
   "execution_count": 20,
   "metadata": {},
   "outputs": [],
   "source": [
    "class lin_reg:\n",
    "    '''Model that does linear regression on the data'''\n",
    "    \n",
    "    def train(self, X, Y, alpha = 0.0001):\n",
    "        '''Train the model on a dataset from the examples X and the labels Y.\n",
    "        The algorithm uses gradient descent with learning rate alpha for a max of 1000000 steps.\n",
    "        X must in the format (# examples)x(# features) and Y is a column array.\n",
    "        The final weights as well as a list of the costs calculated through the training \n",
    "        can be extracted using methods .weights and .cost.'''\n",
    "        \n",
    "        # Extract number of training examples and features from X\n",
    "        (m, n) = X.shape\n",
    "        # Add a column of ones to X for the bias\n",
    "        X = np.append(np.ones((m,1)), X, axis = 1)\n",
    "        Y = np.reshape(Y, (m,1))\n",
    "        # Initialize the weights to zero\n",
    "        self.weights = np.zeros((n+1 ,1))\n",
    "        # Initialize the cost\n",
    "        i = 0\n",
    "        self.cost = []\n",
    "        self.cost.append(1/m * np.matmul(np.transpose(Y - np.matmul(X, self.weights)), Y - np.matmul(X, self.weights)))\n",
    "        # Update weights with gradient and compute new cost\n",
    "        while True:\n",
    "            self.weights = self.weights + alpha / m * np.matmul(np.transpose(X), Y - np.matmul(X, self.weights))\n",
    "            self.cost.append(1/m * np.matmul(np.transpose(Y - np.matmul(X, self.weights)), Y - np.matmul(X, self.weights)))\n",
    "            # Stop upgrading if cost doesn't lower of if reached limit\n",
    "            if self.cost[i + 1] < self.cost[i]:\n",
    "                i += 1\n",
    "            else:\n",
    "                break\n",
    "            if i > 1000000:\n",
    "                print('Gradient descent did not converge fast enough')\n",
    "                break\n",
    "\n",
    "    def predict(self, X):\n",
    "        '''Use data X and trained model to predict labels using linear regression hypothesis.'''\n",
    "    \n",
    "        # Extract number of training examples and features from X\n",
    "        (m, n) = X.shape\n",
    "        # Add a column of ones to X for the bias\n",
    "        X = np.append(np.ones((m,1)), X, axis = 1)\n",
    "        return np.matmul(X, self.weights)"
   ]
  },
  {
   "cell_type": "code",
   "execution_count": 38,
   "metadata": {},
   "outputs": [],
   "source": []
  },
  {
   "cell_type": "code",
   "execution_count": 4,
   "metadata": {},
   "outputs": [],
   "source": [
    "from sklearn.datasets import load_boston\n",
    "from sklearn.linear_model import LinearRegression\n",
    "data = load_boston()"
   ]
  },
  {
   "cell_type": "code",
   "execution_count": 7,
   "metadata": {},
   "outputs": [
    {
     "name": "stdout",
     "output_type": "stream",
     "text": [
      "Gradient descent did not converge fast enough\n"
     ]
    },
    {
     "data": {
      "text/plain": [
       "[array([[592.146917]]),\n",
       " array([[349.66048201]]),\n",
       " array([[233.95288997]]),\n",
       " array([[178.13637393]]),\n",
       " array([[150.64094942]]),\n",
       " array([[136.56476656]]),\n",
       " array([[128.87251857]]),\n",
       " array([[124.24157953]]),\n",
       " array([[121.10160955]]),\n",
       " array([[118.70935353]]),\n",
       " array([[116.71199328]]),\n",
       " array([[114.94106971]]),\n",
       " array([[113.31522125]]),\n",
       " array([[111.79427765]]),\n",
       " array([[110.35759086]])]"
      ]
     },
     "execution_count": 7,
     "metadata": {},
     "output_type": "execute_result"
    }
   ],
   "source": [
    "model = lin_reg()\n",
    "model.train(data['data'], data['target'], alpha=0.000001)\n",
    "model.cost[:15:]"
   ]
  },
  {
   "cell_type": "code",
   "execution_count": 21,
   "metadata": {},
   "outputs": [],
   "source": [
    "mod = lin_reg()"
   ]
  },
  {
   "cell_type": "code",
   "execution_count": 177,
   "metadata": {},
   "outputs": [],
   "source": [
    "mod.train()"
   ]
  },
  {
   "cell_type": "code",
   "execution_count": null,
   "metadata": {},
   "outputs": [],
   "source": []
  }
 ],
 "metadata": {
  "kernelspec": {
   "display_name": "Python 3",
   "language": "python",
   "name": "python3"
  },
  "language_info": {
   "codemirror_mode": {
    "name": "ipython",
    "version": 3
   },
   "file_extension": ".py",
   "mimetype": "text/x-python",
   "name": "python",
   "nbconvert_exporter": "python",
   "pygments_lexer": "ipython3",
   "version": "3.6.8"
  }
 },
 "nbformat": 4,
 "nbformat_minor": 2
}
