{
 "cells": [
  {
   "cell_type": "code",
   "execution_count": 56,
   "metadata": {},
   "outputs": [],
   "source": [
    "import numpy as np\n",
    "from numpy.linalg import inv"
   ]
  },
  {
   "cell_type": "markdown",
   "metadata": {},
   "source": [
    "m is number of features  \n",
    "n is number of training examples  \n",
    "X is of dimension (m,n) and Y is of dimension (m,1)"
   ]
  },
  {
   "cell_type": "code",
   "execution_count": 137,
   "metadata": {},
   "outputs": [],
   "source": [
    "class lin_reg:\n",
    "    '''Model that does linear regression on the data'''\n",
    "    \n",
    "    def train(self, X, Y, alpha = 0.0001, limit = 100000, normal = False, lambd = 0, regularization = None):\n",
    "        '''Train the model on a dataset from the examples X and the labels Y.\n",
    "        The algorithm uses gradient descent with learning rate 'alpha' for a max of 'limit' steps.\n",
    "        X must in the format (# examples)x(# features) and Y is a column array.\n",
    "        The final weights as well as a list of the costs calculated through the training \n",
    "        can be extracted using methods .weights and .cost.\n",
    "        Option to use the exact solution using \"normal\" instead of gradient descent.\n",
    "        There are the option of including L1 or L2 regularization.'''\n",
    "        \n",
    "        # Extract number of training examples and features from X\n",
    "        (m, n) = X.shape\n",
    "        # Add a column of ones to X for the bias\n",
    "        X = np.append(np.ones((m,1)), X, axis = 1)\n",
    "        Y = np.reshape(Y, (m,1))\n",
    "            \n",
    "        if not normal:\n",
    "            # Initialize the weights to zero\n",
    "            self.weights = np.zeros((n+1 ,1))\n",
    "            # Initialize the cost\n",
    "            i = 0\n",
    "            self.cost = []\n",
    "            self.cost.append(1/(2*m) * np.matmul(np.transpose(Y - np.matmul(X, self.weights)), Y - np.matmul(X, self.weights)))\n",
    "            # Update weights with gradient and compute new cost\n",
    "            while True:\n",
    "                self.weights = self.weights - alpha * self.gradient(X, Y, self.weights, lambd, regularization)\n",
    "                self.cost.append(1/(2*m) * np.matmul(np.transpose(Y - np.matmul(X, self.weights)), Y - np.matmul(X, self.weights)))\n",
    "                # Stop upgrading if cost doesn't lower of if reached limit\n",
    "                if self.cost[i + 1] < self.cost[i]:\n",
    "                    if i % 10000 == 0:\n",
    "                        print(i, 'steps done', end=\"\\r\")\n",
    "                    i += 1\n",
    "                else:\n",
    "                    break\n",
    "                if i > limit:\n",
    "                    print('Reached the limit')\n",
    "                    break\n",
    "        else:\n",
    "            self.weights = np.matmul(np.matmul(inv(np.matmul(np.transpose(X), X)), np.transpose(X)), Y)\n",
    "\n",
    "            \n",
    "    def gradient(self, X, Y, weights, lambd, regularization):\n",
    "        '''Compute the gradient involved in gradient descent, for different regularization schemes.'''\n",
    "        \n",
    "        (m, n) = X.shape\n",
    "        basic_grad = -1/m * np.matmul(np.transpose(X), Y - np.matmul(X, weights))\n",
    "        if regularization == 'L1':\n",
    "            return basic_grad + lambd * np.insert(np.sign(weights[1:]), 0, 0).reshape(n, 1) \n",
    "        elif regularization == 'L2':\n",
    "            return basic_grad + lambd * np.insert(weights[1:], 0, 0).reshape(n, 1)\n",
    "        else:\n",
    "            return basic_grad\n",
    "    \n",
    "    \n",
    "    def predict(self, X):\n",
    "        '''Use data X and trained model to predict labels using linear regression hypothesis.\n",
    "        Output is an array with one value for each data point.'''\n",
    "    \n",
    "        # Extract number of training examples and features from X\n",
    "        (m, n) = X.shape\n",
    "        # Add a column of ones to X for the bias\n",
    "        X = np.append(np.ones((m,1)), X, axis = 1)\n",
    "        return np.matmul(X, self.weights)\n",
    "    \n",
    "    \n",
    "    def error(self, Y, Y_pred, metric):\n",
    "        '''Computes the error of Y_pred compared to true answer Y.\n",
    "        Option of using the R2 or RSE as metrics.'''\n",
    "        \n",
    "        # Reshape data and use it to make a prediction\n",
    "        m = Y.shape[0]\n",
    "        Y = np.reshape(Y, (m,1))\n",
    "        # Compute total squared error for use later\n",
    "        rss = np.matmul(np.transpose(Y - Y_pred), Y - Y_pred)\n",
    "        if metric == 'rse':\n",
    "            rse_error = np.sqrt(rss/(m-2))\n",
    "            print('RSE error is: ', rse_error)\n",
    "        elif metric == 'r2':\n",
    "            tss = np.matmul(np.transpose(Y - np.mean(Y)), Y - np.mean(Y))\n",
    "            r2_error = 1 - rss/tss\n",
    "            print('R squared error is: ', r2_error)\n",
    "        else:\n",
    "            print('Wrong metric specification!')\n",
    "    "
   ]
  },
  {
   "cell_type": "code",
   "execution_count": 38,
   "metadata": {},
   "outputs": [],
   "source": []
  },
  {
   "cell_type": "code",
   "execution_count": 4,
   "metadata": {},
   "outputs": [],
   "source": [
    "from sklearn.datasets import load_boston\n",
    "from sklearn.linear_model import LinearRegression\n",
    "data = load_boston()"
   ]
  },
  {
   "cell_type": "code",
   "execution_count": 138,
   "metadata": {},
   "outputs": [
    {
     "name": "stdout",
     "output_type": "stream",
     "text": [
      "90000 steps done\r"
     ]
    },
    {
     "ename": "KeyboardInterrupt",
     "evalue": "",
     "output_type": "error",
     "traceback": [
      "\u001b[1;31m---------------------------------------------------------------------------\u001b[0m",
      "\u001b[1;31mKeyboardInterrupt\u001b[0m                         Traceback (most recent call last)",
      "\u001b[1;32m<ipython-input-138-e612e9fe0ece>\u001b[0m in \u001b[0;36m<module>\u001b[1;34m\u001b[0m\n\u001b[0;32m      1\u001b[0m \u001b[0mmodel\u001b[0m \u001b[1;33m=\u001b[0m \u001b[0mlin_reg\u001b[0m\u001b[1;33m(\u001b[0m\u001b[1;33m)\u001b[0m\u001b[1;33m\u001b[0m\u001b[1;33m\u001b[0m\u001b[0m\n\u001b[1;32m----> 2\u001b[1;33m \u001b[0mmodel\u001b[0m\u001b[1;33m.\u001b[0m\u001b[0mtrain\u001b[0m\u001b[1;33m(\u001b[0m\u001b[0mdata\u001b[0m\u001b[1;33m[\u001b[0m\u001b[1;34m'data'\u001b[0m\u001b[1;33m]\u001b[0m\u001b[1;33m,\u001b[0m \u001b[0mdata\u001b[0m\u001b[1;33m[\u001b[0m\u001b[1;34m'target'\u001b[0m\u001b[1;33m]\u001b[0m\u001b[1;33m,\u001b[0m \u001b[0malpha\u001b[0m\u001b[1;33m=\u001b[0m\u001b[1;36m0.000001\u001b[0m\u001b[1;33m,\u001b[0m \u001b[0mlimit\u001b[0m \u001b[1;33m=\u001b[0m \u001b[1;36m1000000\u001b[0m\u001b[1;33m,\u001b[0m \u001b[0mlambd\u001b[0m \u001b[1;33m=\u001b[0m \u001b[1;36m1\u001b[0m\u001b[1;33m,\u001b[0m \u001b[0mregularization\u001b[0m \u001b[1;33m=\u001b[0m \u001b[1;32mNone\u001b[0m\u001b[1;33m)\u001b[0m\u001b[1;33m\u001b[0m\u001b[1;33m\u001b[0m\u001b[0m\n\u001b[0m\u001b[0;32m      3\u001b[0m \u001b[0mmodel\u001b[0m\u001b[1;33m.\u001b[0m\u001b[0mcost\u001b[0m\u001b[1;33m[\u001b[0m\u001b[1;33m:\u001b[0m\u001b[1;36m15\u001b[0m\u001b[1;33m]\u001b[0m\u001b[1;33m\u001b[0m\u001b[1;33m\u001b[0m\u001b[0m\n",
      "\u001b[1;32m<ipython-input-137-97a2318f0aad>\u001b[0m in \u001b[0;36mtrain\u001b[1;34m(self, X, Y, alpha, limit, normal, lambd, regularization)\u001b[0m\n\u001b[0;32m     27\u001b[0m             \u001b[1;32mwhile\u001b[0m \u001b[1;32mTrue\u001b[0m\u001b[1;33m:\u001b[0m\u001b[1;33m\u001b[0m\u001b[1;33m\u001b[0m\u001b[0m\n\u001b[0;32m     28\u001b[0m                 \u001b[0mself\u001b[0m\u001b[1;33m.\u001b[0m\u001b[0mweights\u001b[0m \u001b[1;33m=\u001b[0m \u001b[0mself\u001b[0m\u001b[1;33m.\u001b[0m\u001b[0mweights\u001b[0m \u001b[1;33m-\u001b[0m \u001b[0malpha\u001b[0m \u001b[1;33m*\u001b[0m \u001b[0mself\u001b[0m\u001b[1;33m.\u001b[0m\u001b[0mgradient\u001b[0m\u001b[1;33m(\u001b[0m\u001b[0mX\u001b[0m\u001b[1;33m,\u001b[0m \u001b[0mY\u001b[0m\u001b[1;33m,\u001b[0m \u001b[0mself\u001b[0m\u001b[1;33m.\u001b[0m\u001b[0mweights\u001b[0m\u001b[1;33m,\u001b[0m \u001b[0mlambd\u001b[0m\u001b[1;33m,\u001b[0m \u001b[0mregularization\u001b[0m\u001b[1;33m)\u001b[0m\u001b[1;33m\u001b[0m\u001b[1;33m\u001b[0m\u001b[0m\n\u001b[1;32m---> 29\u001b[1;33m                 \u001b[0mself\u001b[0m\u001b[1;33m.\u001b[0m\u001b[0mcost\u001b[0m\u001b[1;33m.\u001b[0m\u001b[0mappend\u001b[0m\u001b[1;33m(\u001b[0m\u001b[1;36m1\u001b[0m\u001b[1;33m/\u001b[0m\u001b[1;33m(\u001b[0m\u001b[1;36m2\u001b[0m\u001b[1;33m*\u001b[0m\u001b[0mm\u001b[0m\u001b[1;33m)\u001b[0m \u001b[1;33m*\u001b[0m \u001b[0mnp\u001b[0m\u001b[1;33m.\u001b[0m\u001b[0mmatmul\u001b[0m\u001b[1;33m(\u001b[0m\u001b[0mnp\u001b[0m\u001b[1;33m.\u001b[0m\u001b[0mtranspose\u001b[0m\u001b[1;33m(\u001b[0m\u001b[0mY\u001b[0m \u001b[1;33m-\u001b[0m \u001b[0mnp\u001b[0m\u001b[1;33m.\u001b[0m\u001b[0mmatmul\u001b[0m\u001b[1;33m(\u001b[0m\u001b[0mX\u001b[0m\u001b[1;33m,\u001b[0m \u001b[0mself\u001b[0m\u001b[1;33m.\u001b[0m\u001b[0mweights\u001b[0m\u001b[1;33m)\u001b[0m\u001b[1;33m)\u001b[0m\u001b[1;33m,\u001b[0m \u001b[0mY\u001b[0m \u001b[1;33m-\u001b[0m \u001b[0mnp\u001b[0m\u001b[1;33m.\u001b[0m\u001b[0mmatmul\u001b[0m\u001b[1;33m(\u001b[0m\u001b[0mX\u001b[0m\u001b[1;33m,\u001b[0m \u001b[0mself\u001b[0m\u001b[1;33m.\u001b[0m\u001b[0mweights\u001b[0m\u001b[1;33m)\u001b[0m\u001b[1;33m)\u001b[0m\u001b[1;33m)\u001b[0m\u001b[1;33m\u001b[0m\u001b[1;33m\u001b[0m\u001b[0m\n\u001b[0m\u001b[0;32m     30\u001b[0m                 \u001b[1;31m# Stop upgrading if cost doesn't lower of if reached limit\u001b[0m\u001b[1;33m\u001b[0m\u001b[1;33m\u001b[0m\u001b[1;33m\u001b[0m\u001b[0m\n\u001b[0;32m     31\u001b[0m                 \u001b[1;32mif\u001b[0m \u001b[0mself\u001b[0m\u001b[1;33m.\u001b[0m\u001b[0mcost\u001b[0m\u001b[1;33m[\u001b[0m\u001b[0mi\u001b[0m \u001b[1;33m+\u001b[0m \u001b[1;36m1\u001b[0m\u001b[1;33m]\u001b[0m \u001b[1;33m<\u001b[0m \u001b[0mself\u001b[0m\u001b[1;33m.\u001b[0m\u001b[0mcost\u001b[0m\u001b[1;33m[\u001b[0m\u001b[0mi\u001b[0m\u001b[1;33m]\u001b[0m\u001b[1;33m:\u001b[0m\u001b[1;33m\u001b[0m\u001b[1;33m\u001b[0m\u001b[0m\n",
      "\u001b[1;31mKeyboardInterrupt\u001b[0m: "
     ]
    }
   ],
   "source": [
    "model = lin_reg()\n",
    "model.train(data['data'], data['target'], alpha=0.000001, limit = 1000000, lambd = 1, regularization = None)\n",
    "model.cost[:15]"
   ]
  },
  {
   "cell_type": "code",
   "execution_count": 132,
   "metadata": {},
   "outputs": [
    {
     "name": "stdout",
     "output_type": "stream",
     "text": [
      "R squared error is:  [[0.63757935]]\n"
     ]
    }
   ],
   "source": [
    "model.error(data['target'], model.predict(data['data']), 'r2')"
   ]
  },
  {
   "cell_type": "code",
   "execution_count": 55,
   "metadata": {
    "scrolled": false
   },
   "outputs": [
    {
     "data": {
      "text/plain": [
       "array([[26.33323471],\n",
       "       [23.90216462],\n",
       "       [23.64444031],\n",
       "       [23.19578018],\n",
       "       [23.37212363],\n",
       "       [23.49085986],\n",
       "       [23.99589384],\n",
       "       [24.59863327],\n",
       "       [22.21251978],\n",
       "       [23.86254698],\n",
       "       [24.03671475],\n",
       "       [24.91311395],\n",
       "       [21.39202783],\n",
       "       [23.15180904],\n",
       "       [23.35616569]])"
      ]
     },
     "execution_count": 55,
     "metadata": {},
     "output_type": "execute_result"
    }
   ],
   "source": [
    "model.predict(data['data'])[:15]"
   ]
  },
  {
   "cell_type": "markdown",
   "metadata": {},
   "source": [
    "Future: add regularization, polynomial regression, visualization cost, normalize data"
   ]
  },
  {
   "cell_type": "code",
   "execution_count": null,
   "metadata": {},
   "outputs": [],
   "source": []
  },
  {
   "cell_type": "code",
   "execution_count": null,
   "metadata": {},
   "outputs": [],
   "source": []
  },
  {
   "cell_type": "code",
   "execution_count": null,
   "metadata": {},
   "outputs": [],
   "source": []
  },
  {
   "cell_type": "code",
   "execution_count": null,
   "metadata": {},
   "outputs": [],
   "source": []
  }
 ],
 "metadata": {
  "kernelspec": {
   "display_name": "Python 3",
   "language": "python",
   "name": "python3"
  },
  "language_info": {
   "codemirror_mode": {
    "name": "ipython",
    "version": 3
   },
   "file_extension": ".py",
   "mimetype": "text/x-python",
   "name": "python",
   "nbconvert_exporter": "python",
   "pygments_lexer": "ipython3",
   "version": "3.6.8"
  }
 },
 "nbformat": 4,
 "nbformat_minor": 2
}
