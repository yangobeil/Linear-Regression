{
 "cells": [
  {
   "cell_type": "code",
   "execution_count": 56,
   "metadata": {},
   "outputs": [],
   "source": [
    "import numpy as np\n",
    "from numpy.linalg import inv"
   ]
  },
  {
   "cell_type": "markdown",
   "metadata": {},
   "source": [
    "m is number of features  \n",
    "n is number of training examples  \n",
    "X is of dimension (m,n) and Y is of dimension (m,1)"
   ]
  },
  {
   "cell_type": "code",
   "execution_count": 68,
   "metadata": {},
   "outputs": [],
   "source": [
    "class lin_reg:\n",
    "    '''Model that does linear regression on the data'''\n",
    "    \n",
    "    def train(self, X, Y, alpha = 0.0001, limit = 100000, normal = False):\n",
    "        '''Train the model on a dataset from the examples X and the labels Y.\n",
    "        The algorithm uses gradient descent with learning rate 'alpha' for a max of 'limit' steps.\n",
    "        X must in the format (# examples)x(# features) and Y is a column array.\n",
    "        The final weights as well as a list of the costs calculated through the training \n",
    "        can be extracted using methods .weights and .cost.\n",
    "        Option to use the exact solution using \"normal\" instead of gradient descent.'''\n",
    "        \n",
    "        # Extract number of training examples and features from X\n",
    "        (m, n) = X.shape\n",
    "        # Add a column of ones to X for the bias\n",
    "        X = np.append(np.ones((m,1)), X, axis = 1)\n",
    "        Y = np.reshape(Y, (m,1))\n",
    "            \n",
    "        if not normal:\n",
    "            # Initialize the weights to zero\n",
    "            self.weights = np.zeros((n+1 ,1))\n",
    "            # Initialize the cost\n",
    "            i = 0\n",
    "            self.cost = []\n",
    "            self.cost.append(1/m * np.matmul(np.transpose(Y - np.matmul(X, self.weights)), Y - np.matmul(X, self.weights)))\n",
    "            # Update weights with gradient and compute new cost\n",
    "            while True:\n",
    "                self.weights = self.weights + alpha / m * np.matmul(np.transpose(X), Y - np.matmul(X, self.weights))\n",
    "                self.cost.append(1/m * np.matmul(np.transpose(Y - np.matmul(X, self.weights)), Y - np.matmul(X, self.weights)))\n",
    "                # Stop upgrading if cost doesn't lower of if reached limit\n",
    "                if self.cost[i + 1] < self.cost[i]:\n",
    "                    i += 1\n",
    "                else:\n",
    "                    break\n",
    "                if i > limit:\n",
    "                    print('Gradient descent did not converge fast enough')\n",
    "                    break\n",
    "        else:\n",
    "            self.weights = np.matmul(np.matmul(inv(np.matmul(np.transpose(X), X)), np.transpose(X)), Y)\n",
    "\n",
    "    def predict(self, X):\n",
    "        '''Use data X and trained model to predict labels using linear regression hypothesis.\n",
    "        Output is an array with one value for each data point.'''\n",
    "    \n",
    "        # Extract number of training examples and features from X\n",
    "        (m, n) = X.shape\n",
    "        # Add a column of ones to X for the bias\n",
    "        X = np.append(np.ones((m,1)), X, axis = 1)\n",
    "        return np.matmul(X, self.weights)\n",
    "    \n",
    "    def error(self, Y, Y_pred, metric):\n",
    "        '''Computes the error of Y_pred compared to true answer Y.\n",
    "        Option of using the R2 or RSE as metrics.'''\n",
    "        \n",
    "        # Reshape data and use it to make a prediction\n",
    "        m = Y.shape[0]\n",
    "        Y = np.reshape(Y, (m,1))\n",
    "        # Compute total squared error for use later\n",
    "        rss = np.matmul(np.transpose(Y - Y_pred), Y - Y_pred)\n",
    "        if metric == 'rse':\n",
    "            rse_error = np.sqrt(rss/(m-2))\n",
    "            print('RSE error is: ', rse_error)\n",
    "        elif metric == 'r2':\n",
    "            tss = np.matmul(np.transpose(Y - np.mean(Y)), Y - np.mean(Y))\n",
    "            r2_error = 1 - rss/tss\n",
    "            print('R squared error is: ', r2_error)\n",
    "        else:\n",
    "            print('Wrong metric specification!')\n",
    "        \n",
    "        \n",
    "        \n",
    "    #def gradient\n",
    "    \n",
    "    "
   ]
  },
  {
   "cell_type": "code",
   "execution_count": 38,
   "metadata": {},
   "outputs": [],
   "source": []
  },
  {
   "cell_type": "code",
   "execution_count": 4,
   "metadata": {},
   "outputs": [],
   "source": [
    "from sklearn.datasets import load_boston\n",
    "from sklearn.linear_model import LinearRegression\n",
    "data = load_boston()"
   ]
  },
  {
   "cell_type": "code",
   "execution_count": 69,
   "metadata": {},
   "outputs": [],
   "source": [
    "model = lin_reg()\n",
    "model.train(data['data'], data['target'], alpha=0.000001, limit = 10000, normal = True)\n",
    "# model.cost[:15]"
   ]
  },
  {
   "cell_type": "code",
   "execution_count": 71,
   "metadata": {},
   "outputs": [
    {
     "name": "stdout",
     "output_type": "stream",
     "text": [
      "R squared error is:  [[0.74064266]]\n"
     ]
    }
   ],
   "source": [
    "model.error(data['target'], model.predict(data['data']), 'r2')"
   ]
  },
  {
   "cell_type": "code",
   "execution_count": 55,
   "metadata": {
    "scrolled": false
   },
   "outputs": [
    {
     "data": {
      "text/plain": [
       "array([[26.33323471],\n",
       "       [23.90216462],\n",
       "       [23.64444031],\n",
       "       [23.19578018],\n",
       "       [23.37212363],\n",
       "       [23.49085986],\n",
       "       [23.99589384],\n",
       "       [24.59863327],\n",
       "       [22.21251978],\n",
       "       [23.86254698],\n",
       "       [24.03671475],\n",
       "       [24.91311395],\n",
       "       [21.39202783],\n",
       "       [23.15180904],\n",
       "       [23.35616569]])"
      ]
     },
     "execution_count": 55,
     "metadata": {},
     "output_type": "execute_result"
    }
   ],
   "source": [
    "model.predict(data['data'])[:15]"
   ]
  },
  {
   "cell_type": "markdown",
   "metadata": {},
   "source": [
    "Future: add regularization, polynomial regression, visualization cost"
   ]
  },
  {
   "cell_type": "code",
   "execution_count": null,
   "metadata": {},
   "outputs": [],
   "source": []
  }
 ],
 "metadata": {
  "kernelspec": {
   "display_name": "Python 3",
   "language": "python",
   "name": "python3"
  },
  "language_info": {
   "codemirror_mode": {
    "name": "ipython",
    "version": 3
   },
   "file_extension": ".py",
   "mimetype": "text/x-python",
   "name": "python",
   "nbconvert_exporter": "python",
   "pygments_lexer": "ipython3",
   "version": "3.6.8"
  }
 },
 "nbformat": 4,
 "nbformat_minor": 2
}
